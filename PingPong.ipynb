{
  "nbformat": 4,
  "nbformat_minor": 0,
  "metadata": {
    "colab": {
      "provenance": [],
      "authorship_tag": "ABX9TyNV5Aw9xEl6OBK9AY3pn0iw",
      "include_colab_link": true
    },
    "kernelspec": {
      "name": "python3",
      "display_name": "Python 3"
    },
    "language_info": {
      "name": "python"
    }
  },
  "cells": [
    {
      "cell_type": "markdown",
      "metadata": {
        "id": "view-in-github",
        "colab_type": "text"
      },
      "source": [
        "<a href=\"https://colab.research.google.com/github/AndTheLordSaid/AndTheLordSaid/blob/main/PingPong.ipynb\" target=\"_parent\"><img src=\"https://colab.research.google.com/assets/colab-badge.svg\" alt=\"Open In Colab\"/></a>"
      ]
    },
    {
      "cell_type": "code",
      "execution_count": null,
      "metadata": {
        "colab": {
          "base_uri": "https://localhost:8080/",
          "height": 287
        },
        "id": "Ph5Fy8fmOw1H",
        "outputId": "dfb786d9-2dcc-4c26-d12a-a19077a62f04"
      },
      "outputs": [
        {
          "output_type": "stream",
          "name": "stdout",
          "text": [
            "Player 1 name:1\n",
            "Player 2 name:2\n",
            "1:0  2:0\n"
          ]
        },
        {
          "output_type": "error",
          "ename": "AttributeError",
          "evalue": "ignored",
          "traceback": [
            "\u001b[0;31m---------------------------------------------------------------------------\u001b[0m",
            "\u001b[0;31mAttributeError\u001b[0m                            Traceback (most recent call last)",
            "\u001b[0;32m<ipython-input-1-ad73315c5338>\u001b[0m in \u001b[0;36m<module>\u001b[0;34m\u001b[0m\n\u001b[1;32m     55\u001b[0m     \u001b[0;32mfor\u001b[0m \u001b[0my\u001b[0m \u001b[0;32min\u001b[0m \u001b[0mrange\u001b[0m\u001b[0;34m(\u001b[0m\u001b[0;36m11\u001b[0m\u001b[0;34m)\u001b[0m\u001b[0;34m:\u001b[0m\u001b[0;34m\u001b[0m\u001b[0;34m\u001b[0m\u001b[0m\n\u001b[1;32m     56\u001b[0m         \u001b[0;32mfor\u001b[0m \u001b[0mx\u001b[0m \u001b[0;32min\u001b[0m \u001b[0mrange\u001b[0m\u001b[0;34m(\u001b[0m\u001b[0;36m21\u001b[0m\u001b[0;34m)\u001b[0m\u001b[0;34m:\u001b[0m\u001b[0;34m\u001b[0m\u001b[0;34m\u001b[0m\u001b[0m\n\u001b[0;32m---> 57\u001b[0;31m             \u001b[0;32mif\u001b[0m \u001b[0mx\u001b[0m \u001b[0;34m==\u001b[0m \u001b[0;36m0\u001b[0m \u001b[0;32mand\u001b[0m \u001b[0;34m(\u001b[0m\u001b[0my\u001b[0m \u001b[0;34m==\u001b[0m \u001b[0mp1\u001b[0m\u001b[0;34m.\u001b[0m\u001b[0my\u001b[0m \u001b[0;32mor\u001b[0m \u001b[0my\u001b[0m \u001b[0;34m==\u001b[0m \u001b[0mp1\u001b[0m\u001b[0;34m.\u001b[0m\u001b[0my\u001b[0m \u001b[0;34m+\u001b[0m \u001b[0;36m1\u001b[0m \u001b[0;32mor\u001b[0m \u001b[0my\u001b[0m \u001b[0;34m==\u001b[0m \u001b[0mp1\u001b[0m\u001b[0;34m.\u001b[0m\u001b[0my\u001b[0m \u001b[0;34m+\u001b[0m \u001b[0;36m2\u001b[0m \u001b[0;32mor\u001b[0m \u001b[0my\u001b[0m \u001b[0;34m==\u001b[0m \u001b[0mp1\u001b[0m\u001b[0;34m.\u001b[0m\u001b[0my\u001b[0m \u001b[0;34m+\u001b[0m \u001b[0;36m3\u001b[0m\u001b[0;34m)\u001b[0m\u001b[0;34m:\u001b[0m\u001b[0;34m\u001b[0m\u001b[0;34m\u001b[0m\u001b[0m\n\u001b[0m\u001b[1;32m     58\u001b[0m                 \u001b[0mprint\u001b[0m\u001b[0;34m(\u001b[0m\u001b[0;34m\"|\"\u001b[0m\u001b[0;34m,\u001b[0m\u001b[0mend\u001b[0m\u001b[0;34m=\u001b[0m\u001b[0;34m\"\"\u001b[0m\u001b[0;34m)\u001b[0m\u001b[0;34m\u001b[0m\u001b[0;34m\u001b[0m\u001b[0m\n\u001b[1;32m     59\u001b[0m             \u001b[0;32melif\u001b[0m \u001b[0mx\u001b[0m \u001b[0;34m==\u001b[0m \u001b[0;36m20\u001b[0m \u001b[0;32mand\u001b[0m \u001b[0;34m(\u001b[0m\u001b[0my\u001b[0m \u001b[0;34m==\u001b[0m \u001b[0mp2\u001b[0m\u001b[0;34m.\u001b[0m\u001b[0my\u001b[0m \u001b[0;32mor\u001b[0m \u001b[0my\u001b[0m \u001b[0;34m==\u001b[0m \u001b[0mp2\u001b[0m\u001b[0;34m.\u001b[0m\u001b[0my\u001b[0m \u001b[0;34m+\u001b[0m \u001b[0;36m1\u001b[0m \u001b[0;32mor\u001b[0m \u001b[0my\u001b[0m \u001b[0;34m==\u001b[0m \u001b[0mp2\u001b[0m\u001b[0;34m.\u001b[0m\u001b[0my\u001b[0m \u001b[0;34m+\u001b[0m \u001b[0;36m2\u001b[0m \u001b[0;32mor\u001b[0m \u001b[0my\u001b[0m \u001b[0;34m==\u001b[0m \u001b[0mp2\u001b[0m\u001b[0;34m.\u001b[0m\u001b[0my\u001b[0m \u001b[0;34m+\u001b[0m \u001b[0;36m3\u001b[0m\u001b[0;34m)\u001b[0m\u001b[0;34m:\u001b[0m\u001b[0;34m\u001b[0m\u001b[0;34m\u001b[0m\u001b[0m\n",
            "\u001b[0;31mAttributeError\u001b[0m: 'Player' object has no attribute 'y'"
          ]
        }
      ],
      "source": [
        "# create the game\n",
        "# create the objects\n",
        "\n",
        "# creating the players\n",
        "class Player:\n",
        "    def __init__(self,name):\n",
        "        self.name = name\n",
        "        self.score = 0\n",
        "\n",
        "# creating the ball object\n",
        "class Ball:\n",
        "    def __init__(self,x,y,dx,dy):\n",
        "        self.x = x\n",
        "        self.y = y\n",
        "        self.dx = dx\n",
        "        self.dy = dy\n",
        "\n",
        "# initialize game\n",
        "name1 = input(\"Player 1 name:\")\n",
        "name2 = input(\"Player 2 name:\")\n",
        "p1 = Player(name1)\n",
        "p2 = Player(name2)\n",
        "ball = Ball(0,0,1,1)\n",
        "\n",
        "# game loop\n",
        "while True:\n",
        "    # update ball coordinates\n",
        "    ball.x += ball.dx\n",
        "    ball.y += ball.dy\n",
        "\n",
        "    # check paddle collision\n",
        "    if ball.x == 0:\n",
        "        if (ball.y > p1.y and ball.y < p1.y + 4):\n",
        "            ball.dx *= -1\n",
        "        else:\n",
        "            print(\"{} scored a point\".format(p2.name))\n",
        "            p2.score += 1\n",
        "            ball.x, ball.y = 0,0\n",
        "    elif ball.x == 20:\n",
        "        if (ball.y > p2.y and ball.y < p2.y + 4):\n",
        "            ball.dx *= -1\n",
        "        else:\n",
        "            print(\"{} scored a point. \".format(p1.name))\n",
        "            p1.score += 1\n",
        "            ball.x, ball.y = 0,0\n",
        "\n",
        "    # check wall collision\n",
        "    if ball.y == 0 or ball.y == 10:\n",
        "        ball.dy *= -1\n",
        "\n",
        "    # print score\n",
        "    print(\"{}:{}  {}:{}\".format(p1.name, p1.score, p2.name, p2.score))\n",
        "\n",
        "    # print board\n",
        "    for y in range(11):\n",
        "        for x in range(21):\n",
        "            if x == 0 and (y == p1.y or y == p1.y + 1 or y == p1.y + 2 or y == p1.y + 3):\n",
        "                print(\"|\",end=\"\")\n",
        "            elif x == 20 and (y == p2.y or y == p2.y + 1 or y == p2.y + 2 or y == p2.y + 3):\n",
        "                print(\"|\",end=\"\")\n",
        "            elif x == ball.x and y == ball.y:\n",
        "                print(\"o\",end=\"\")\n",
        "            else:\n",
        "                print(\" \",end=\"\")\n",
        "        print()\n",
        "\n",
        "    # take input\n",
        "    move1 = input(\"{}, use w/s to move:\".format(p1.name))\n",
        "    move2 = input(\"{}, use up/down arrow to move:\".format(p2.name))\n",
        "\n",
        "    # make movement\n",
        "    if move1 == \"w\":\n",
        "        if p1.y > 0:\n",
        "            p1.y -= 1\n",
        "    elif move1 == \"s\":\n",
        "        if p1.y < 8:\n",
        "            p1.y += 1\n",
        "    if move2 == \"up\":\n",
        "        if p2.y > 0:\n",
        "            p2.y -= 1\n",
        "    elif move2 == \"down\":\n",
        "        if p2.y < 8:\n",
        "            p2.y += 1"
      ]
    }
  ]
}