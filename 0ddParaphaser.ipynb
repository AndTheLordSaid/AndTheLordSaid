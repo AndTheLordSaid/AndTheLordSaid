{
  "nbformat": 4,
  "nbformat_minor": 0,
  "metadata": {
    "colab": {
      "provenance": [],
      "authorship_tag": "ABX9TyNmk5qsZkDpPGPTibLtd9pJ"
    },
    "kernelspec": {
      "name": "python3",
      "display_name": "Python 3"
    },
    "language_info": {
      "name": "python"
    }
  },
  "cells": [
    {
      "cell_type": "code",
      "source": [
        "pip install python-telegram-bot"
      ],
      "metadata": {
        "colab": {
          "base_uri": "https://localhost:8080/",
          "height": 696
        },
        "id": "QOrMRkbhwg-P",
        "outputId": "d4cf50e1-5216-4f1e-c107-e4d5161f4d5e"
      },
      "execution_count": null,
      "outputs": [
        {
          "output_type": "stream",
          "name": "stdout",
          "text": [
            "Looking in indexes: https://pypi.org/simple, https://us-python.pkg.dev/colab-wheels/public/simple/\n",
            "Collecting python-telegram-bot\n",
            "  Downloading python_telegram_bot-13.15-py3-none-any.whl (519 kB)\n",
            "\u001b[K     |████████████████████████████████| 519 kB 5.0 MB/s \n",
            "\u001b[?25hCollecting APScheduler==3.6.3\n",
            "  Downloading APScheduler-3.6.3-py2.py3-none-any.whl (58 kB)\n",
            "\u001b[K     |████████████████████████████████| 58 kB 6.3 MB/s \n",
            "\u001b[?25hCollecting tornado==6.1\n",
            "  Downloading tornado-6.1-cp38-cp38-manylinux2010_x86_64.whl (427 kB)\n",
            "\u001b[K     |████████████████████████████████| 427 kB 54.1 MB/s \n",
            "\u001b[?25hRequirement already satisfied: certifi in /usr/local/lib/python3.8/dist-packages (from python-telegram-bot) (2022.12.7)\n",
            "Collecting cachetools==4.2.2\n",
            "  Downloading cachetools-4.2.2-py3-none-any.whl (11 kB)\n",
            "Requirement already satisfied: pytz>=2018.6 in /usr/local/lib/python3.8/dist-packages (from python-telegram-bot) (2022.6)\n",
            "Requirement already satisfied: tzlocal>=1.2 in /usr/local/lib/python3.8/dist-packages (from APScheduler==3.6.3->python-telegram-bot) (1.5.1)\n",
            "Requirement already satisfied: setuptools>=0.7 in /usr/local/lib/python3.8/dist-packages (from APScheduler==3.6.3->python-telegram-bot) (57.4.0)\n",
            "Requirement already satisfied: six>=1.4.0 in /usr/local/lib/python3.8/dist-packages (from APScheduler==3.6.3->python-telegram-bot) (1.15.0)\n",
            "Installing collected packages: tornado, cachetools, APScheduler, python-telegram-bot\n",
            "  Attempting uninstall: tornado\n",
            "    Found existing installation: tornado 6.0.4\n",
            "    Uninstalling tornado-6.0.4:\n",
            "      Successfully uninstalled tornado-6.0.4\n",
            "  Attempting uninstall: cachetools\n",
            "    Found existing installation: cachetools 5.2.0\n",
            "    Uninstalling cachetools-5.2.0:\n",
            "      Successfully uninstalled cachetools-5.2.0\n",
            "\u001b[31mERROR: pip's dependency resolver does not currently take into account all the packages that are installed. This behaviour is the source of the following dependency conflicts.\n",
            "google-colab 1.0.0 requires tornado~=6.0.4, but you have tornado 6.1 which is incompatible.\u001b[0m\n",
            "Successfully installed APScheduler-3.6.3 cachetools-4.2.2 python-telegram-bot-13.15 tornado-6.1\n"
          ]
        },
        {
          "output_type": "display_data",
          "data": {
            "application/vnd.colab-display-data+json": {
              "pip_warning": {
                "packages": [
                  "tornado"
                ]
              }
            }
          },
          "metadata": {}
        }
      ]
    },
    {
      "cell_type": "code",
      "source": [
        "# import the necessary packages\n",
        "import telegram \n",
        "import requests\n"
      ],
      "metadata": {
        "id": "a3oPClwC668w"
      },
      "execution_count": null,
      "outputs": []
    },
    {
      "cell_type": "code",
      "execution_count": null,
      "metadata": {
        "colab": {
          "base_uri": "https://localhost:8080/"
        },
        "id": "S2JQugXewUv0",
        "outputId": "41d1b525-ae6e-426e-95ee-164dbdd95cdc"
      },
      "outputs": [
        {
          "output_type": "execute_result",
          "data": {
            "text/plain": [
              "<queue.Queue at 0x7f7afd177850>"
            ]
          },
          "metadata": {},
          "execution_count": 2
        }
      ],
      "source": [
        "from telegram.ext import Updater, CommandHandler, MessageHandler, Filters\n",
        "# Create the Updater\n",
        "updater = Updater('5646954281:AAHjIFDt3rhux-XXx8WpAAHgVvpLkAjva8E', use_context=True)\n",
        "\n",
        "# Create the dispatcher\n",
        "dispatcher = updater.dispatcher\n",
        "\n",
        "# Create the Handler functions\n",
        "def start(update, context):\n",
        "    context.bot.send_message(chat_id=update.effective_chat.id, text=\"Hi! I'm 0dd Paraphraser. Please enter a paragraph you want to paraphrase.\")\n",
        "\n",
        "def spin(update, context):\n",
        "    url = \"https://paraphrase-genius.p.rapidapi.com/dev/paraphrase/\"\n",
        "\n",
        "    payload = {\n",
        "\t      \"text\": update.message.text,\n",
        "\t      \"result_type\": \"single\"\n",
        "    }\n",
        "    headers = {\n",
        "\t      \"content-type\": \"application/json\",\n",
        "\t      \"X-RapidAPI-Key\": \"---------------------------\",\n",
        "\t      \"X-RapidAPI-Host\": \"paraphrase-genius.p.rapidapi.com\"\n",
        "    }\n",
        "\n",
        "    response = requests.request(\"POST\", url, json=payload, headers=headers)\n",
        "    context.bot.send_message(chat_id=update.effective_chat.id, text=response.text)\n",
        "\n",
        "def stop(update, context):\n",
        "    updater.stop()\n",
        "\n",
        "# Add the Handler functions to the dispatcher\n",
        "start_handler = CommandHandler('start', start)\n",
        "stop_handler = CommandHandler('stop',stop)\n",
        "spin_handler = MessageHandler(Filters.text, spin)\n",
        "\n",
        "\n",
        "# Add the dispatcher to the updater\n",
        "dispatcher.add_handler(start_handler)\n",
        "dispatcher.add_handler(stop_handler)\n",
        "dispatcher.add_handler(spin_handler)\n",
        "\n",
        "\n",
        "# Start the updater\n",
        "updater.start_polling()\n"
      ]
    },
    {
      "cell_type": "code",
      "source": [
        "updater.stop()"
      ],
      "metadata": {
        "id": "LqSjCPubi9aM"
      },
      "execution_count": null,
      "outputs": []
    }
  ]
}
